{
  "nbformat": 4,
  "nbformat_minor": 0,
  "metadata": {
    "colab": {
      "provenance": [],
      "authorship_tag": "ABX9TyPlQLxsHbSmM2X6PjZrxKC6",
      "include_colab_link": true
    },
    "kernelspec": {
      "name": "python3",
      "display_name": "Python 3"
    },
    "language_info": {
      "name": "python"
    }
  },
  "cells": [
    {
      "cell_type": "markdown",
      "metadata": {
        "id": "view-in-github",
        "colab_type": "text"
      },
      "source": [
        "<a href=\"https://colab.research.google.com/github/harmankhattra16/MiniProject_03_SubsetSelectionProblem/blob/main/SubsetSelectionUsingPython.ipynb\" target=\"_parent\"><img src=\"https://colab.research.google.com/assets/colab-badge.svg\" alt=\"Open In Colab\"/></a>"
      ]
    },
    {
      "cell_type": "markdown",
      "source": [
        "---\n",
        "\n",
        "\n",
        "#**Subset Selection Problem**\n",
        "\n",
        "---"
      ],
      "metadata": {
        "id": "D0zHpTKslUeA"
      }
    },
    {
      "cell_type": "markdown",
      "source": [
        "**1. Problem Statement:**\n",
        "\n",
        "Find all the subsets from a set of numbers whose sum is zero.\n",
        "\n",
        "**Constraint: Subset size must be 5**\n",
        "\n",
        "Set={-12, -3, -6, 7, 2, -2, 6, 3, 9, -7, -5, -8, 1, 11, -9, -4}"
      ],
      "metadata": {
        "id": "i7kduXnplh6y"
      }
    },
    {
      "cell_type": "markdown",
      "source": [
        "##**1.1 Library inclusion**"
      ],
      "metadata": {
        "id": "7n53RdXilr_G"
      }
    },
    {
      "cell_type": "code",
      "execution_count": 1,
      "metadata": {
        "id": "skFQdkEAlKYH"
      },
      "outputs": [],
      "source": [
        "import random as r"
      ]
    },
    {
      "cell_type": "markdown",
      "source": [
        "##**1.2 Parameter Setting**"
      ],
      "metadata": {
        "id": "FWeWEdh5lz8s"
      }
    },
    {
      "cell_type": "code",
      "source": [
        "Set         = set([-12, -3, -6, 7, 2, -2, 6, 3, 9, -7, -5, -8, 1, 11, -9, -4])\n",
        "SetSize     = 5\n",
        "ResultList  = set()    # Store Result List i.e. list of sets whose sum is zero\n",
        "Iterations  = 1000    # Number of Inerations"
      ],
      "metadata": {
        "id": "aPGonZful3H8"
      },
      "execution_count": 2,
      "outputs": []
    },
    {
      "cell_type": "markdown",
      "source": [
        "##**1.3 Start Program**"
      ],
      "metadata": {
        "id": "6Z_5SdhTl5Vv"
      }
    },
    {
      "cell_type": "code",
      "source": [
        "# Loop till number of Iterations\n",
        "for i in range(Iterations):\n",
        "    # Select number of elements from Set\n",
        "    Chromosome = r.sample(list(Set),SetSize)\n",
        "\n",
        "    # Sum the number of elements in the Chromosome\n",
        "    if sum(Chromosome) == 0:\n",
        "        ResultList.add(tuple(Chromosome))"
      ],
      "metadata": {
        "id": "b0t-lDS1l-Xn"
      },
      "execution_count": 4,
      "outputs": []
    },
    {
      "cell_type": "markdown",
      "source": [
        "##**1.4 Print the sets and total count**"
      ],
      "metadata": {
        "id": "oWF-vYNCmGuZ"
      }
    },
    {
      "cell_type": "code",
      "source": [
        "# Print all the sets whose sum is zero\n",
        "for r in ResultList:\n",
        "\tprint (r)\n",
        "\n",
        "# Print total sets\n",
        "print (\"\\nTotal Sets: \", len(ResultList), \"\\n\")"
      ],
      "metadata": {
        "colab": {
          "base_uri": "https://localhost:8080/"
        },
        "id": "fcmU2fFqmEfl",
        "outputId": "d0457f5f-a1bc-48a1-b1eb-ec61dd755b02"
      },
      "execution_count": 5,
      "outputs": [
        {
          "output_type": "stream",
          "name": "stdout",
          "text": [
            "(11, 3, -8, -2, -4)\n",
            "(1, 2, -4, -8, 9)\n",
            "(-8, 6, 9, -4, -3)\n",
            "(-12, 3, -4, 6, 7)\n",
            "(-9, 11, -7, -2, 7)\n",
            "(-6, 11, 3, -3, -5)\n",
            "(-7, 9, 1, 2, -5)\n",
            "(-7, 3, 6, -3, 1)\n",
            "(-2, -4, 11, -8, 3)\n",
            "(7, 6, -9, -5, 1)\n",
            "(-12, 6, -3, 2, 7)\n",
            "(-2, 11, 7, -4, -12)\n",
            "(1, -3, 9, -2, -5)\n",
            "(-7, 2, -8, 7, 6)\n",
            "(3, -9, 11, -2, -3)\n",
            "(-4, 11, 1, -2, -6)\n",
            "(7, 1, -7, 11, -12)\n",
            "(-9, 9, -5, 7, -2)\n",
            "(1, 11, 2, -12, -2)\n",
            "(9, -2, -6, 2, -3)\n",
            "(1, -9, -12, 9, 11)\n",
            "(-3, 9, 2, 1, -9)\n",
            "(1, 7, -12, 9, -5)\n",
            "(-2, -5, -3, 9, 1)\n",
            "(-3, -6, 6, -4, 7)\n",
            "(7, 9, -5, -8, -3)\n",
            "(2, 6, -6, 3, -5)\n",
            "(-2, 2, 3, 9, -12)\n",
            "(2, -7, 7, 3, -5)\n",
            "(9, -6, -5, -9, 11)\n",
            "(3, 9, 7, -12, -7)\n",
            "(6, 3, -9, -2, 2)\n",
            "(-5, -4, 2, -2, 9)\n",
            "(7, -12, 11, -4, -2)\n",
            "(-5, 9, 11, -3, -12)\n",
            "\n",
            "Total Sets:  35 \n",
            "\n"
          ]
        }
      ]
    },
    {
      "cell_type": "markdown",
      "source": [
        "---\n",
        "\n",
        "\n",
        "**2. Problem Statement:**\n",
        "\n",
        "Find all the subsets from a set of numbers whose sum is zero.\n",
        "\n",
        "**Constraint: Subset size must be 3 to 6 only**\n",
        "\n",
        "Set={-12, -3, -6, 7, 2, -2, 6, 3, 9, -7, -5, -8, 1, 11, -9, -4}\n",
        "\n",
        "\n",
        "---"
      ],
      "metadata": {
        "id": "HRwS9BF8mSZX"
      }
    },
    {
      "cell_type": "code",
      "source": [
        "# Step 1: Library inclusion\n",
        "import random as r\n",
        "\n",
        "\n",
        "# Step 2: Parameter Setting\n",
        "Set         = set([-12, -3, -6, 7, 2, -2, 6, 3, 9, -7, -5, -8, 1, 11, -9, -4])\n",
        "SetLB       = 3\n",
        "SetUB       = 6\n",
        "ResultList  = set()    # Store Result List i.e. list of sets whose sum is zero\n",
        "Iterations  = 1000   # Number of Inerations\n",
        "\n",
        "\n",
        "# Step3: Start Program\n",
        "\n",
        "# Loop till number of Iterations\n",
        "for i in range(Iterations):\n",
        "    # Select set size randomly\n",
        "    SetSize = r.randint(SetLB,SetUB)\n",
        "\n",
        "    # Select number of elements from Set\n",
        "    Chromosome = r.sample(list(Set),SetSize)\n",
        "    Chromosome.sort()\n",
        "\n",
        "    # Sum the number of elements in the Chromosome\n",
        "    if sum(Chromosome) == 0:\n",
        "        ResultList.add(tuple(Chromosome))\n",
        "\n",
        "# Print all the sets whose sum is zero\n",
        "for r in ResultList:\n",
        "        print (r)\n",
        "\n",
        "# Print total sets\n",
        "print (\"\\nTotal Sets: \", len(ResultList))"
      ],
      "metadata": {
        "colab": {
          "base_uri": "https://localhost:8080/"
        },
        "id": "O2_4Dbz4mMbk",
        "outputId": "3bde882a-760f-4ab4-efd4-05b9f441584d"
      },
      "execution_count": 8,
      "outputs": [
        {
          "output_type": "stream",
          "name": "stdout",
          "text": [
            "(-12, -7, -3, 2, 9, 11)\n",
            "(-5, 2, 3)\n",
            "(-9, -7, -4, 9, 11)\n",
            "(-12, -2, 3, 11)\n",
            "(-7, -6, -2, 6, 9)\n",
            "(-6, -4, 3, 7)\n",
            "(-12, -3, 1, 3, 11)\n",
            "(-7, -6, -2, 2, 6, 7)\n",
            "(-9, -7, -5, 1, 9, 11)\n",
            "(-6, 1, 2, 3)\n",
            "(-8, -2, 1, 9)\n",
            "(-8, 1, 7)\n",
            "(-8, 2, 6)\n",
            "(-7, -4, 11)\n",
            "(-12, -5, -2, 1, 7, 11)\n",
            "(-9, -6, 6, 9)\n",
            "(-8, -7, -6, 1, 9, 11)\n",
            "(-6, -5, 11)\n",
            "(-8, -5, 2, 11)\n",
            "(-9, -6, -2, 6, 11)\n",
            "(-9, -8, 6, 11)\n",
            "(-12, -9, -6, 7, 9, 11)\n",
            "(-3, 1, 2)\n",
            "(-8, -6, -4, -2, 9, 11)\n",
            "(-7, 1, 6)\n",
            "(-12, -9, 3, 7, 11)\n",
            "(-12, -7, -2, 3, 7, 11)\n",
            "(-9, -8, -3, 3, 6, 11)\n",
            "(-5, -4, -2, 11)\n",
            "(-8, -3, 11)\n",
            "(-9, -3, -2, 3, 11)\n",
            "(-7, -3, 3, 7)\n",
            "(-9, 1, 2, 6)\n",
            "(-5, -4, 9)\n",
            "\n",
            "Total Sets:  34\n"
          ]
        }
      ]
    }
  ]
}